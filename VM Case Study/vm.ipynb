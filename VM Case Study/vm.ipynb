{
 "cells": [
  {
   "cell_type": "code",
   "execution_count": 215,
   "metadata": {},
   "outputs": [],
   "source": [
    "import os\n",
    "import pandas as pd\n",
    "import seaborn as sns\n",
    "os.getcwd()\n",
    "sns.set(rc={'figure.figsize':(10,5)})\n",
    "import matplotlib.pyplot as plt"
   ]
  },
  {
   "cell_type": "code",
   "execution_count": 216,
   "metadata": {},
   "outputs": [],
   "source": [
    "os.chdir('C:\\\\Users\\\\Tom Joseph\\\\Downloads\\\\VM Case Study')"
   ]
  },
  {
   "cell_type": "code",
   "execution_count": 276,
   "metadata": {},
   "outputs": [],
   "source": [
    "main = pd.read_csv('main_header.csv')\n",
    "channel = pd.read_csv('channel_header.csv')\n",
    "categories = pd.read_csv('categories_header.csv')\n",
    "main['date'] = pd.to_datetime(main['date'])\n"
   ]
  },
  {
   "cell_type": "code",
   "execution_count": 218,
   "metadata": {},
   "outputs": [
    {
     "data": {
      "text/html": [
       "<div>\n",
       "<style scoped>\n",
       "    .dataframe tbody tr th:only-of-type {\n",
       "        vertical-align: middle;\n",
       "    }\n",
       "\n",
       "    .dataframe tbody tr th {\n",
       "        vertical-align: top;\n",
       "    }\n",
       "\n",
       "    .dataframe thead th {\n",
       "        text-align: right;\n",
       "    }\n",
       "</style>\n",
       "<table border=\"1\" class=\"dataframe\">\n",
       "  <thead>\n",
       "    <tr style=\"text-align: right;\">\n",
       "      <th></th>\n",
       "      <th>Channel</th>\n",
       "      <th>Channel ID</th>\n",
       "      <th>2019 total cost</th>\n",
       "    </tr>\n",
       "  </thead>\n",
       "  <tbody>\n",
       "    <tr>\n",
       "      <td>0</td>\n",
       "      <td>affiliate</td>\n",
       "      <td>1</td>\n",
       "      <td>138048.38</td>\n",
       "    </tr>\n",
       "    <tr>\n",
       "      <td>1</td>\n",
       "      <td>brand</td>\n",
       "      <td>2</td>\n",
       "      <td>0.00</td>\n",
       "    </tr>\n",
       "    <tr>\n",
       "      <td>2</td>\n",
       "      <td>crm</td>\n",
       "      <td>3</td>\n",
       "      <td>0.00</td>\n",
       "    </tr>\n",
       "    <tr>\n",
       "      <td>3</td>\n",
       "      <td>display</td>\n",
       "      <td>4</td>\n",
       "      <td>1177056.18</td>\n",
       "    </tr>\n",
       "    <tr>\n",
       "      <td>4</td>\n",
       "      <td>other</td>\n",
       "      <td>5</td>\n",
       "      <td>0.00</td>\n",
       "    </tr>\n",
       "    <tr>\n",
       "      <td>5</td>\n",
       "      <td>search</td>\n",
       "      <td>6</td>\n",
       "      <td>3439873.52</td>\n",
       "    </tr>\n",
       "    <tr>\n",
       "      <td>6</td>\n",
       "      <td>social</td>\n",
       "      <td>7</td>\n",
       "      <td>1513755.36</td>\n",
       "    </tr>\n",
       "  </tbody>\n",
       "</table>\n",
       "</div>"
      ],
      "text/plain": [
       "     Channel  Channel ID  2019 total cost\n",
       "0  affiliate           1        138048.38\n",
       "1      brand           2             0.00\n",
       "2        crm           3             0.00\n",
       "3    display           4       1177056.18\n",
       "4      other           5             0.00\n",
       "5     search           6       3439873.52\n",
       "6     social           7       1513755.36"
      ]
     },
     "execution_count": 218,
     "metadata": {},
     "output_type": "execute_result"
    }
   ],
   "source": [
    "channel"
   ]
  },
  {
   "cell_type": "code",
   "execution_count": 219,
   "metadata": {},
   "outputs": [],
   "source": [
    "categories.rename(columns={'category id':'category ID'},inplace=True)"
   ]
  },
  {
   "cell_type": "code",
   "execution_count": 220,
   "metadata": {},
   "outputs": [
    {
     "data": {
      "text/html": [
       "<div>\n",
       "<style scoped>\n",
       "    .dataframe tbody tr th:only-of-type {\n",
       "        vertical-align: middle;\n",
       "    }\n",
       "\n",
       "    .dataframe tbody tr th {\n",
       "        vertical-align: top;\n",
       "    }\n",
       "\n",
       "    .dataframe thead th {\n",
       "        text-align: right;\n",
       "    }\n",
       "</style>\n",
       "<table border=\"1\" class=\"dataframe\">\n",
       "  <thead>\n",
       "    <tr style=\"text-align: right;\">\n",
       "      <th></th>\n",
       "      <th>date</th>\n",
       "      <th>country</th>\n",
       "      <th>channel ID</th>\n",
       "      <th>category ID</th>\n",
       "      <th>sessions</th>\n",
       "      <th>pageviews</th>\n",
       "      <th>conversions</th>\n",
       "      <th>revenue</th>\n",
       "      <th>bounces</th>\n",
       "      <th>total_session_duration_in_ms</th>\n",
       "    </tr>\n",
       "  </thead>\n",
       "  <tbody>\n",
       "    <tr>\n",
       "      <td>0</td>\n",
       "      <td>2019-01-01</td>\n",
       "      <td>cz</td>\n",
       "      <td>5</td>\n",
       "      <td>10</td>\n",
       "      <td>2</td>\n",
       "      <td>3</td>\n",
       "      <td>0</td>\n",
       "      <td>0.000</td>\n",
       "      <td>0</td>\n",
       "      <td>3146790</td>\n",
       "    </tr>\n",
       "    <tr>\n",
       "      <td>1</td>\n",
       "      <td>2019-01-01</td>\n",
       "      <td>cz</td>\n",
       "      <td>2</td>\n",
       "      <td>10</td>\n",
       "      <td>92</td>\n",
       "      <td>228</td>\n",
       "      <td>157</td>\n",
       "      <td>116.040</td>\n",
       "      <td>9</td>\n",
       "      <td>296735116</td>\n",
       "    </tr>\n",
       "    <tr>\n",
       "      <td>2</td>\n",
       "      <td>2019-01-01</td>\n",
       "      <td>cz</td>\n",
       "      <td>7</td>\n",
       "      <td>10</td>\n",
       "      <td>186</td>\n",
       "      <td>383</td>\n",
       "      <td>215</td>\n",
       "      <td>226.908</td>\n",
       "      <td>35</td>\n",
       "      <td>208787607</td>\n",
       "    </tr>\n",
       "    <tr>\n",
       "      <td>3</td>\n",
       "      <td>2019-01-01</td>\n",
       "      <td>cz</td>\n",
       "      <td>4</td>\n",
       "      <td>10</td>\n",
       "      <td>67</td>\n",
       "      <td>235</td>\n",
       "      <td>85</td>\n",
       "      <td>76.212</td>\n",
       "      <td>12</td>\n",
       "      <td>273295421</td>\n",
       "    </tr>\n",
       "    <tr>\n",
       "      <td>4</td>\n",
       "      <td>2019-01-01</td>\n",
       "      <td>cz</td>\n",
       "      <td>6</td>\n",
       "      <td>10</td>\n",
       "      <td>562</td>\n",
       "      <td>1437</td>\n",
       "      <td>741</td>\n",
       "      <td>541.952</td>\n",
       "      <td>85</td>\n",
       "      <td>1252733604</td>\n",
       "    </tr>\n",
       "  </tbody>\n",
       "</table>\n",
       "</div>"
      ],
      "text/plain": [
       "         date country  channel ID  category ID  sessions  pageviews  \\\n",
       "0  2019-01-01      cz           5           10         2          3   \n",
       "1  2019-01-01      cz           2           10        92        228   \n",
       "2  2019-01-01      cz           7           10       186        383   \n",
       "3  2019-01-01      cz           4           10        67        235   \n",
       "4  2019-01-01      cz           6           10       562       1437   \n",
       "\n",
       "   conversions  revenue  bounces  total_session_duration_in_ms  \n",
       "0            0    0.000        0                       3146790  \n",
       "1          157  116.040        9                     296735116  \n",
       "2          215  226.908       35                     208787607  \n",
       "3           85   76.212       12                     273295421  \n",
       "4          741  541.952       85                    1252733604  "
      ]
     },
     "execution_count": 220,
     "metadata": {},
     "output_type": "execute_result"
    }
   ],
   "source": [
    "main.head()"
   ]
  },
  {
   "cell_type": "code",
   "execution_count": 221,
   "metadata": {},
   "outputs": [],
   "source": [
    "main.shape\n",
    " "
   ]
  },
  {
   "cell_type": "code",
   "execution_count": 222,
   "metadata": {},
   "outputs": [],
   "source": [
    "channel.rename(columns ={'Channel ID':'channel ID'},inplace=True)"
   ]
  },
  {
   "cell_type": "code",
   "execution_count": 223,
   "metadata": {},
   "outputs": [
    {
     "data": {
      "text/html": [
       "<div>\n",
       "<style scoped>\n",
       "    .dataframe tbody tr th:only-of-type {\n",
       "        vertical-align: middle;\n",
       "    }\n",
       "\n",
       "    .dataframe tbody tr th {\n",
       "        vertical-align: top;\n",
       "    }\n",
       "\n",
       "    .dataframe thead th {\n",
       "        text-align: right;\n",
       "    }\n",
       "</style>\n",
       "<table border=\"1\" class=\"dataframe\">\n",
       "  <thead>\n",
       "    <tr style=\"text-align: right;\">\n",
       "      <th></th>\n",
       "      <th>Channel</th>\n",
       "      <th>channel ID</th>\n",
       "      <th>2019 total cost</th>\n",
       "    </tr>\n",
       "  </thead>\n",
       "  <tbody>\n",
       "    <tr>\n",
       "      <td>0</td>\n",
       "      <td>affiliate</td>\n",
       "      <td>1</td>\n",
       "      <td>138048.38</td>\n",
       "    </tr>\n",
       "    <tr>\n",
       "      <td>1</td>\n",
       "      <td>brand</td>\n",
       "      <td>2</td>\n",
       "      <td>0.00</td>\n",
       "    </tr>\n",
       "    <tr>\n",
       "      <td>2</td>\n",
       "      <td>crm</td>\n",
       "      <td>3</td>\n",
       "      <td>0.00</td>\n",
       "    </tr>\n",
       "    <tr>\n",
       "      <td>3</td>\n",
       "      <td>display</td>\n",
       "      <td>4</td>\n",
       "      <td>1177056.18</td>\n",
       "    </tr>\n",
       "    <tr>\n",
       "      <td>4</td>\n",
       "      <td>other</td>\n",
       "      <td>5</td>\n",
       "      <td>0.00</td>\n",
       "    </tr>\n",
       "    <tr>\n",
       "      <td>5</td>\n",
       "      <td>search</td>\n",
       "      <td>6</td>\n",
       "      <td>3439873.52</td>\n",
       "    </tr>\n",
       "    <tr>\n",
       "      <td>6</td>\n",
       "      <td>social</td>\n",
       "      <td>7</td>\n",
       "      <td>1513755.36</td>\n",
       "    </tr>\n",
       "  </tbody>\n",
       "</table>\n",
       "</div>"
      ],
      "text/plain": [
       "     Channel  channel ID  2019 total cost\n",
       "0  affiliate           1        138048.38\n",
       "1      brand           2             0.00\n",
       "2        crm           3             0.00\n",
       "3    display           4       1177056.18\n",
       "4      other           5             0.00\n",
       "5     search           6       3439873.52\n",
       "6     social           7       1513755.36"
      ]
     },
     "execution_count": 223,
     "metadata": {},
     "output_type": "execute_result"
    }
   ],
   "source": [
    " channel"
   ]
  },
  {
   "cell_type": "code",
   "execution_count": 224,
   "metadata": {},
   "outputs": [],
   "source": [
    "df = pd.merge(main,channel,on='channel ID',how='inner').drop(columns=['channel ID','2019 total cost'])"
   ]
  },
  {
   "cell_type": "code",
   "execution_count": null,
   "metadata": {},
   "outputs": [],
   "source": []
  },
  {
   "cell_type": "code",
   "execution_count": 225,
   "metadata": {},
   "outputs": [
    {
     "data": {
      "image/png": "[encoded data removed]",
      "text/plain": [
       "<Figure size 720x360 with 2 Axes>"
      ]
     },
     "metadata": {},
     "output_type": "display_data"
    }
   ],
   "source": [
    "sns.heatmap(main.corr(),cmap='BuPu',annot=True)\n",
    "plt.show()"
   ]
  },
  {
   "cell_type": "code",
   "execution_count": 226,
   "metadata": {},
   "outputs": [],
   "source": [
    "channel_revenue = df.groupby('Channel')['revenue'].sum().sort_values(ascending=False).to_frame().reset_index()\n",
    "\n",
    "channel_revenue = pd.merge(channel,channel_revenue,on='Channel')\n",
    "\n",
    "channel_revenue['profit'] = channel_revenue['revenue'] - channel_revenue['2019 total cost']"
   ]
  },
  {
   "cell_type": "code",
   "execution_count": 227,
   "metadata": {},
   "outputs": [],
   "source": [
    "channel_revenue['ROI'] = round((channel_revenue['profit']/channel_revenue['2019 total cost'])*100,2)\n",
    "\n",
    "\n",
    "\n"
   ]
  },
  {
   "cell_type": "code",
   "execution_count": 228,
   "metadata": {},
   "outputs": [],
   "source": [
    "channel_revenue.to_csv('channel_revenue.csv')"
   ]
  },
  {
   "cell_type": "code",
   "execution_count": 229,
   "metadata": {},
   "outputs": [
    {
     "data": {
      "text/html": [
       "<div>\n",
       "<style scoped>\n",
       "    .dataframe tbody tr th:only-of-type {\n",
       "        vertical-align: middle;\n",
       "    }\n",
       "\n",
       "    .dataframe tbody tr th {\n",
       "        vertical-align: top;\n",
       "    }\n",
       "\n",
       "    .dataframe thead th {\n",
       "        text-align: right;\n",
       "    }\n",
       "</style>\n",
       "<table border=\"1\" class=\"dataframe\">\n",
       "  <thead>\n",
       "    <tr style=\"text-align: right;\">\n",
       "      <th></th>\n",
       "      <th>Channel</th>\n",
       "      <th>channel ID</th>\n",
       "      <th>2019 total cost</th>\n",
       "      <th>revenue</th>\n",
       "      <th>profit</th>\n",
       "      <th>ROI</th>\n",
       "    </tr>\n",
       "  </thead>\n",
       "  <tbody>\n",
       "    <tr>\n",
       "      <td>0</td>\n",
       "      <td>affiliate</td>\n",
       "      <td>1</td>\n",
       "      <td>138048.38</td>\n",
       "      <td>162.548</td>\n",
       "      <td>-137885.832</td>\n",
       "      <td>-99.88</td>\n",
       "    </tr>\n",
       "    <tr>\n",
       "      <td>1</td>\n",
       "      <td>brand</td>\n",
       "      <td>2</td>\n",
       "      <td>0.00</td>\n",
       "      <td>505679.500</td>\n",
       "      <td>505679.500</td>\n",
       "      <td>inf</td>\n",
       "    </tr>\n",
       "    <tr>\n",
       "      <td>2</td>\n",
       "      <td>crm</td>\n",
       "      <td>3</td>\n",
       "      <td>0.00</td>\n",
       "      <td>36830.952</td>\n",
       "      <td>36830.952</td>\n",
       "      <td>inf</td>\n",
       "    </tr>\n",
       "    <tr>\n",
       "      <td>3</td>\n",
       "      <td>display</td>\n",
       "      <td>4</td>\n",
       "      <td>1177056.18</td>\n",
       "      <td>678781.824</td>\n",
       "      <td>-498274.356</td>\n",
       "      <td>-42.33</td>\n",
       "    </tr>\n",
       "    <tr>\n",
       "      <td>4</td>\n",
       "      <td>other</td>\n",
       "      <td>5</td>\n",
       "      <td>0.00</td>\n",
       "      <td>118073.272</td>\n",
       "      <td>118073.272</td>\n",
       "      <td>inf</td>\n",
       "    </tr>\n",
       "    <tr>\n",
       "      <td>5</td>\n",
       "      <td>search</td>\n",
       "      <td>6</td>\n",
       "      <td>3439873.52</td>\n",
       "      <td>4046192.160</td>\n",
       "      <td>606318.640</td>\n",
       "      <td>17.63</td>\n",
       "    </tr>\n",
       "    <tr>\n",
       "      <td>6</td>\n",
       "      <td>social</td>\n",
       "      <td>7</td>\n",
       "      <td>1513755.36</td>\n",
       "      <td>874891.284</td>\n",
       "      <td>-638864.076</td>\n",
       "      <td>-42.20</td>\n",
       "    </tr>\n",
       "  </tbody>\n",
       "</table>\n",
       "</div>"
      ],
      "text/plain": [
       "     Channel  channel ID  2019 total cost      revenue      profit    ROI\n",
       "0  affiliate           1        138048.38      162.548 -137885.832 -99.88\n",
       "1      brand           2             0.00   505679.500  505679.500    inf\n",
       "2        crm           3             0.00    36830.952   36830.952    inf\n",
       "3    display           4       1177056.18   678781.824 -498274.356 -42.33\n",
       "4      other           5             0.00   118073.272  118073.272    inf\n",
       "5     search           6       3439873.52  4046192.160  606318.640  17.63\n",
       "6     social           7       1513755.36   874891.284 -638864.076 -42.20"
      ]
     },
     "execution_count": 229,
     "metadata": {},
     "output_type": "execute_result"
    }
   ],
   "source": [
    "channel_revenue"
   ]
  },
  {
   "cell_type": "code",
   "execution_count": 230,
   "metadata": {},
   "outputs": [],
   "source": [
    "main['date'] = main['date'].apply(lambda x : x.toordinal())"
   ]
  },
  {
   "cell_type": "code",
   "execution_count": 231,
   "metadata": {},
   "outputs": [
    {
     "data": {
      "text/html": [
       "<div>\n",
       "<style scoped>\n",
       "    .dataframe tbody tr th:only-of-type {\n",
       "        vertical-align: middle;\n",
       "    }\n",
       "\n",
       "    .dataframe tbody tr th {\n",
       "        vertical-align: top;\n",
       "    }\n",
       "\n",
       "    .dataframe thead th {\n",
       "        text-align: right;\n",
       "    }\n",
       "</style>\n",
       "<table border=\"1\" class=\"dataframe\">\n",
       "  <thead>\n",
       "    <tr style=\"text-align: right;\">\n",
       "      <th></th>\n",
       "      <th>date</th>\n",
       "      <th>country</th>\n",
       "      <th>channel ID</th>\n",
       "      <th>category ID</th>\n",
       "      <th>sessions</th>\n",
       "      <th>pageviews</th>\n",
       "      <th>conversions</th>\n",
       "      <th>revenue</th>\n",
       "      <th>bounces</th>\n",
       "      <th>total_session_duration_in_ms</th>\n",
       "    </tr>\n",
       "  </thead>\n",
       "  <tbody>\n",
       "    <tr>\n",
       "      <td>0</td>\n",
       "      <td>737060</td>\n",
       "      <td>cz</td>\n",
       "      <td>5</td>\n",
       "      <td>10</td>\n",
       "      <td>2</td>\n",
       "      <td>3</td>\n",
       "      <td>0</td>\n",
       "      <td>0.000</td>\n",
       "      <td>0</td>\n",
       "      <td>3146790</td>\n",
       "    </tr>\n",
       "    <tr>\n",
       "      <td>1</td>\n",
       "      <td>737060</td>\n",
       "      <td>cz</td>\n",
       "      <td>2</td>\n",
       "      <td>10</td>\n",
       "      <td>92</td>\n",
       "      <td>228</td>\n",
       "      <td>157</td>\n",
       "      <td>116.040</td>\n",
       "      <td>9</td>\n",
       "      <td>296735116</td>\n",
       "    </tr>\n",
       "    <tr>\n",
       "      <td>2</td>\n",
       "      <td>737060</td>\n",
       "      <td>cz</td>\n",
       "      <td>7</td>\n",
       "      <td>10</td>\n",
       "      <td>186</td>\n",
       "      <td>383</td>\n",
       "      <td>215</td>\n",
       "      <td>226.908</td>\n",
       "      <td>35</td>\n",
       "      <td>208787607</td>\n",
       "    </tr>\n",
       "    <tr>\n",
       "      <td>3</td>\n",
       "      <td>737060</td>\n",
       "      <td>cz</td>\n",
       "      <td>4</td>\n",
       "      <td>10</td>\n",
       "      <td>67</td>\n",
       "      <td>235</td>\n",
       "      <td>85</td>\n",
       "      <td>76.212</td>\n",
       "      <td>12</td>\n",
       "      <td>273295421</td>\n",
       "    </tr>\n",
       "    <tr>\n",
       "      <td>4</td>\n",
       "      <td>737060</td>\n",
       "      <td>cz</td>\n",
       "      <td>6</td>\n",
       "      <td>10</td>\n",
       "      <td>562</td>\n",
       "      <td>1437</td>\n",
       "      <td>741</td>\n",
       "      <td>541.952</td>\n",
       "      <td>85</td>\n",
       "      <td>1252733604</td>\n",
       "    </tr>\n",
       "    <tr>\n",
       "      <td>...</td>\n",
       "      <td>...</td>\n",
       "      <td>...</td>\n",
       "      <td>...</td>\n",
       "      <td>...</td>\n",
       "      <td>...</td>\n",
       "      <td>...</td>\n",
       "      <td>...</td>\n",
       "      <td>...</td>\n",
       "      <td>...</td>\n",
       "      <td>...</td>\n",
       "    </tr>\n",
       "    <tr>\n",
       "      <td>27850</td>\n",
       "      <td>737424</td>\n",
       "      <td>pl</td>\n",
       "      <td>7</td>\n",
       "      <td>9</td>\n",
       "      <td>54</td>\n",
       "      <td>92</td>\n",
       "      <td>68</td>\n",
       "      <td>23.476</td>\n",
       "      <td>8</td>\n",
       "      <td>48886328</td>\n",
       "    </tr>\n",
       "    <tr>\n",
       "      <td>27851</td>\n",
       "      <td>737424</td>\n",
       "      <td>pl</td>\n",
       "      <td>6</td>\n",
       "      <td>9</td>\n",
       "      <td>966</td>\n",
       "      <td>1800</td>\n",
       "      <td>1323</td>\n",
       "      <td>393.700</td>\n",
       "      <td>133</td>\n",
       "      <td>1475027582</td>\n",
       "    </tr>\n",
       "    <tr>\n",
       "      <td>27852</td>\n",
       "      <td>737424</td>\n",
       "      <td>pl</td>\n",
       "      <td>4</td>\n",
       "      <td>9</td>\n",
       "      <td>102</td>\n",
       "      <td>202</td>\n",
       "      <td>50</td>\n",
       "      <td>23.668</td>\n",
       "      <td>30</td>\n",
       "      <td>148290605</td>\n",
       "    </tr>\n",
       "    <tr>\n",
       "      <td>27853</td>\n",
       "      <td>737424</td>\n",
       "      <td>pl</td>\n",
       "      <td>5</td>\n",
       "      <td>9</td>\n",
       "      <td>15</td>\n",
       "      <td>27</td>\n",
       "      <td>13</td>\n",
       "      <td>3.960</td>\n",
       "      <td>2</td>\n",
       "      <td>8904023</td>\n",
       "    </tr>\n",
       "    <tr>\n",
       "      <td>27854</td>\n",
       "      <td>737424</td>\n",
       "      <td>pl</td>\n",
       "      <td>2</td>\n",
       "      <td>9</td>\n",
       "      <td>155</td>\n",
       "      <td>247</td>\n",
       "      <td>145</td>\n",
       "      <td>42.988</td>\n",
       "      <td>21</td>\n",
       "      <td>380659182</td>\n",
       "    </tr>\n",
       "  </tbody>\n",
       "</table>\n",
       "<p>27855 rows × 10 columns</p>\n",
       "</div>"
      ],
      "text/plain": [
       "         date country  channel ID  category ID  sessions  pageviews  \\\n",
       "0      737060      cz           5           10         2          3   \n",
       "1      737060      cz           2           10        92        228   \n",
       "2      737060      cz           7           10       186        383   \n",
       "3      737060      cz           4           10        67        235   \n",
       "4      737060      cz           6           10       562       1437   \n",
       "...       ...     ...         ...          ...       ...        ...   \n",
       "27850  737424      pl           7            9        54         92   \n",
       "27851  737424      pl           6            9       966       1800   \n",
       "27852  737424      pl           4            9       102        202   \n",
       "27853  737424      pl           5            9        15         27   \n",
       "27854  737424      pl           2            9       155        247   \n",
       "\n",
       "       conversions  revenue  bounces  total_session_duration_in_ms  \n",
       "0                0    0.000        0                       3146790  \n",
       "1              157  116.040        9                     296735116  \n",
       "2              215  226.908       35                     208787607  \n",
       "3               85   76.212       12                     273295421  \n",
       "4              741  541.952       85                    1252733604  \n",
       "...            ...      ...      ...                           ...  \n",
       "27850           68   23.476        8                      48886328  \n",
       "27851         1323  393.700      133                    1475027582  \n",
       "27852           50   23.668       30                     148290605  \n",
       "27853           13    3.960        2                       8904023  \n",
       "27854          145   42.988       21                     380659182  \n",
       "\n",
       "[27855 rows x 10 columns]"
      ]
     },
     "execution_count": 231,
     "metadata": {},
     "output_type": "execute_result"
    }
   ],
   "source": [
    "main"
   ]
  },
  {
   "cell_type": "code",
   "execution_count": 241,
   "metadata": {},
   "outputs": [],
   "source": [
    "from sklearn.preprocessing import LabelEncoder\n",
    "\n",
    " \n",
    "\n",
    "encoder = LabelEncoder()\n",
    "\n",
    "main['country'] = encoder.fit_transform(main['country'])\n",
    "\n",
    "\n",
    "\n",
    " "
   ]
  },
  {
   "cell_type": "code",
   "execution_count": null,
   "metadata": {},
   "outputs": [],
   "source": [
    " "
   ]
  },
  {
   "cell_type": "code",
   "execution_count": 260,
   "metadata": {},
   "outputs": [],
   "source": [
    "from sklearn.model_selection import train_test_split\n",
    "X = main.drop(columns=['conversions','revenue'])\n",
    "y = main['conversions']\n",
    "\n",
    "X_train,X_test,y_train,y_test = train_test_split(X,y,test_size=0.33,random_state=42)\n",
    "\n",
    " "
   ]
  },
  {
   "cell_type": "code",
   "execution_count": 261,
   "metadata": {},
   "outputs": [
    {
     "name": "stderr",
     "output_type": "stream",
     "text": [
      "C:\\Users\\Public\\Anaconda3\\lib\\site-packages\\sklearn\\ensemble\\forest.py:245: FutureWarning: The default value of n_estimators will change from 10 in version 0.20 to 100 in 0.22.\n",
      "  \"10 in version 0.20 to 100 in 0.22.\", FutureWarning)\n"
     ]
    },
    {
     "data": {
      "text/plain": [
       "RandomForestRegressor(bootstrap=True, criterion='mse', max_depth=None,\n",
       "                      max_features='auto', max_leaf_nodes=None,\n",
       "                      min_impurity_decrease=0.0, min_impurity_split=None,\n",
       "                      min_samples_leaf=1, min_samples_split=2,\n",
       "                      min_weight_fraction_leaf=0.0, n_estimators=10,\n",
       "                      n_jobs=None, oob_score=False, random_state=None,\n",
       "                      verbose=0, warm_start=False)"
      ]
     },
     "execution_count": 261,
     "metadata": {},
     "output_type": "execute_result"
    }
   ],
   "source": [
    "from sklearn.ensemble import RandomForestRegressor\n",
    "model = RandomForestRegressor()\n",
    "model.fit(X_train,y_train)"
   ]
  },
  {
   "cell_type": "code",
   "execution_count": 264,
   "metadata": {},
   "outputs": [
    {
     "data": {
      "text/html": [
       "<div>\n",
       "<style scoped>\n",
       "    .dataframe tbody tr th:only-of-type {\n",
       "        vertical-align: middle;\n",
       "    }\n",
       "\n",
       "    .dataframe tbody tr th {\n",
       "        vertical-align: top;\n",
       "    }\n",
       "\n",
       "    .dataframe thead th {\n",
       "        text-align: right;\n",
       "    }\n",
       "</style>\n",
       "<table border=\"1\" class=\"dataframe\">\n",
       "  <thead>\n",
       "    <tr style=\"text-align: right;\">\n",
       "      <th></th>\n",
       "      <th>feature</th>\n",
       "      <th>feature_importance</th>\n",
       "    </tr>\n",
       "  </thead>\n",
       "  <tbody>\n",
       "    <tr>\n",
       "      <td>0</td>\n",
       "      <td>date</td>\n",
       "      <td>0.001226</td>\n",
       "    </tr>\n",
       "    <tr>\n",
       "      <td>1</td>\n",
       "      <td>country</td>\n",
       "      <td>0.000381</td>\n",
       "    </tr>\n",
       "    <tr>\n",
       "      <td>2</td>\n",
       "      <td>channel ID</td>\n",
       "      <td>0.000226</td>\n",
       "    </tr>\n",
       "    <tr>\n",
       "      <td>3</td>\n",
       "      <td>category ID</td>\n",
       "      <td>0.000753</td>\n",
       "    </tr>\n",
       "    <tr>\n",
       "      <td>4</td>\n",
       "      <td>sessions</td>\n",
       "      <td>0.920806</td>\n",
       "    </tr>\n",
       "    <tr>\n",
       "      <td>5</td>\n",
       "      <td>pageviews</td>\n",
       "      <td>0.057653</td>\n",
       "    </tr>\n",
       "    <tr>\n",
       "      <td>6</td>\n",
       "      <td>bounces</td>\n",
       "      <td>0.014179</td>\n",
       "    </tr>\n",
       "    <tr>\n",
       "      <td>7</td>\n",
       "      <td>total_session_duration_in_ms</td>\n",
       "      <td>0.004776</td>\n",
       "    </tr>\n",
       "  </tbody>\n",
       "</table>\n",
       "</div>"
      ],
      "text/plain": [
       "                        feature  feature_importance\n",
       "0                          date            0.001226\n",
       "1                       country            0.000381\n",
       "2                    channel ID            0.000226\n",
       "3                   category ID            0.000753\n",
       "4                      sessions            0.920806\n",
       "5                     pageviews            0.057653\n",
       "6                       bounces            0.014179\n",
       "7  total_session_duration_in_ms            0.004776"
      ]
     },
     "execution_count": 264,
     "metadata": {},
     "output_type": "execute_result"
    }
   ],
   "source": [
    "feature_importance = pd.DataFrame(zip(X.columns,model.feature_importances_),columns=['feature','feature_importance'])\n",
    "\n",
    "feature_importance"
   ]
  },
  {
   "cell_type": "code",
   "execution_count": 265,
   "metadata": {},
   "outputs": [
    {
     "data": {
      "text/plain": [
       "<matplotlib.axes._subplots.AxesSubplot at 0x26e81fdf308>"
      ]
     },
     "execution_count": 265,
     "metadata": {},
     "output_type": "execute_result"
    },
    {
     "data": {
      "image/png": "[encoded data removed]",
      "text/plain": [
       "<Figure size 720x360 with 1 Axes>"
      ]
     },
     "metadata": {},
     "output_type": "display_data"
    }
   ],
   "source": [
    "sns.barplot( y='feature',x='feature_importance',data = feature_importance)"
   ]
  },
  {
   "cell_type": "code",
   "execution_count": 445,
   "metadata": {},
   "outputs": [],
   "source": [
    "datewise_revenue = main.groupby('date')['revenue'].sum().reset_index()"
   ]
  },
  {
   "cell_type": "code",
   "execution_count": 446,
   "metadata": {},
   "outputs": [],
   "source": [
    "datewise_revenue['day of week'] = datewise_revenue['date'].dt.dayofweek"
   ]
  },
  {
   "cell_type": "code",
   "execution_count": 447,
   "metadata": {},
   "outputs": [],
   "source": [
    "days = {0:'0 Monday',1:'1 Tuesday',2:'2 Wednesday',3:'3 Thursday',4:'4 Friday',5:'5 Saturday',6:'6 Sunday'}"
   ]
  },
  {
   "cell_type": "code",
   "execution_count": 448,
   "metadata": {},
   "outputs": [],
   "source": [
    "datewise_revenue['day of week'] = datewise_revenue['day of week'].map(days)"
   ]
  },
  {
   "cell_type": "code",
   "execution_count": 449,
   "metadata": {},
   "outputs": [],
   "source": [
    "datewise_revenue['month'] = datewise_revenue['date'].dt.month"
   ]
  },
  {
   "cell_type": "code",
   "execution_count": 450,
   "metadata": {},
   "outputs": [],
   "source": [
    "months = {1:'Jan',2:'Feb',3:'Mar',4:'Apr',5:'May',6:'Jun',7:'Jul',8:'Aug',9:'Sep',10:'Oct',11:'Nov',12:'Dec'}"
   ]
  },
  {
   "cell_type": "code",
   "execution_count": 451,
   "metadata": {},
   "outputs": [],
   "source": [
    "datewise_revenue['month'] = datewise_revenue['month'].map(months)"
   ]
  },
  {
   "cell_type": "code",
   "execution_count": 459,
   "metadata": {},
   "outputs": [],
   "source": [
    "df = datewise_revenue\n",
    " "
   ]
  },
  {
   "cell_type": "code",
   "execution_count": 396,
   "metadata": {},
   "outputs": [],
   "source": [
    "df = df.drop(columns=['date']).sort_index()"
   ]
  },
  {
   "cell_type": "code",
   "execution_count": 397,
   "metadata": {},
   "outputs": [],
   "source": [
    "df = df[['month','day of week','revenue']]\n",
    "df.dropna(inplace=True)"
   ]
  },
  {
   "cell_type": "code",
   "execution_count": null,
   "metadata": {},
   "outputs": [],
   "source": [
    " "
   ]
  },
  {
   "cell_type": "code",
   "execution_count": 460,
   "metadata": {},
   "outputs": [
    {
     "data": {
      "image/png": "[encoded data removed]",
      "text/plain": [
       "<Figure size 720x360 with 2 Axes>"
      ]
     },
     "metadata": {},
     "output_type": "display_data"
    }
   ],
   "source": [
    "month_day_revenue = pd.crosstab(df['day of week'],df['month'],values=df['revenue'],aggfunc='sum')\n",
    "month_day_revenue = month_day_revenue[['Jan','Feb','Mar','Apr','May','Jun','Jul','Aug','Sep','Oct','Nov','Dec']] \n",
    "month_day_revenue.sort_index(level = 'day of week')\n",
    "sns.heatmap(month_day_revenue,cmap='RdPu',fmt='d',linewidths=2)\n",
    "plt.show()"
   ]
  },
  {
   "cell_type": "code",
   "execution_count": 463,
   "metadata": {},
   "outputs": [
    {
     "data": {
      "image/png": "[encoded data removed]",
      "text/plain": [
       "<Figure size 720x360 with 2 Axes>"
      ]
     },
     "metadata": {},
     "output_type": "display_data"
    }
   ],
   "source": [
    "month_day_revenue = pd.crosstab(ff['date of month'],df['month'],values=df['revenue'],aggfunc='sum')\n",
    "month_day_revenue = month_day_revenue[['Jan','Feb','Mar','Apr','May','Jun','Jul','Aug','Sep','Oct','Nov','Dec']] \n",
    "month_day_revenue.sort_index(level = 'date of month')\n",
    "sns.heatmap(month_day_revenue,cmap='RdPu',fmt='d',linewidths=2)\n",
    "plt.show()"
   ]
  },
  {
   "cell_type": "code",
   "execution_count": 462,
   "metadata": {},
   "outputs": [],
   "source": [
    "ff = datewise_revenue"
   ]
  },
  {
   "cell_type": "code",
   "execution_count": 409,
   "metadata": {},
   "outputs": [
    {
     "data": {
      "image/png": "[encoded data removed]",
      "text/plain": [
       "<Figure size 720x360 with 2 Axes>"
      ]
     },
     "metadata": {},
     "output_type": "display_data"
    }
   ],
   "source": []
  },
  {
   "cell_type": "code",
   "execution_count": 452,
   "metadata": {},
   "outputs": [],
   "source": [
    "datewise_revenue['date'] = datewise_revenue['date'].astype('str')"
   ]
  },
  {
   "cell_type": "code",
   "execution_count": 453,
   "metadata": {},
   "outputs": [],
   "source": [
    "datewise_revenue['date of month'] = datewise_revenue['date'].apply(lambda x : x.split('-')[2])"
   ]
  },
  {
   "cell_type": "code",
   "execution_count": 457,
   "metadata": {},
   "outputs": [],
   "source": [
    "datewise_revenue = datewise_revenue.drop(columns=['date'])"
   ]
  },
  {
   "cell_type": "code",
   "execution_count": 458,
   "metadata": {},
   "outputs": [
    {
     "data": {
      "text/html": [
       "<div>\n",
       "<style scoped>\n",
       "    .dataframe tbody tr th:only-of-type {\n",
       "        vertical-align: middle;\n",
       "    }\n",
       "\n",
       "    .dataframe tbody tr th {\n",
       "        vertical-align: top;\n",
       "    }\n",
       "\n",
       "    .dataframe thead th {\n",
       "        text-align: right;\n",
       "    }\n",
       "</style>\n",
       "<table border=\"1\" class=\"dataframe\">\n",
       "  <thead>\n",
       "    <tr style=\"text-align: right;\">\n",
       "      <th></th>\n",
       "      <th>revenue</th>\n",
       "      <th>day of week</th>\n",
       "      <th>month</th>\n",
       "      <th>date of month</th>\n",
       "    </tr>\n",
       "  </thead>\n",
       "  <tbody>\n",
       "    <tr>\n",
       "      <td>0</td>\n",
       "      <td>17582.636</td>\n",
       "      <td>1 Tuesday</td>\n",
       "      <td>Jan</td>\n",
       "      <td>01</td>\n",
       "    </tr>\n",
       "    <tr>\n",
       "      <td>1</td>\n",
       "      <td>20745.792</td>\n",
       "      <td>2 Wednesday</td>\n",
       "      <td>Jan</td>\n",
       "      <td>02</td>\n",
       "    </tr>\n",
       "    <tr>\n",
       "      <td>2</td>\n",
       "      <td>19641.544</td>\n",
       "      <td>3 Thursday</td>\n",
       "      <td>Jan</td>\n",
       "      <td>03</td>\n",
       "    </tr>\n",
       "    <tr>\n",
       "      <td>3</td>\n",
       "      <td>17825.216</td>\n",
       "      <td>4 Friday</td>\n",
       "      <td>Jan</td>\n",
       "      <td>04</td>\n",
       "    </tr>\n",
       "    <tr>\n",
       "      <td>4</td>\n",
       "      <td>17230.016</td>\n",
       "      <td>5 Saturday</td>\n",
       "      <td>Jan</td>\n",
       "      <td>05</td>\n",
       "    </tr>\n",
       "    <tr>\n",
       "      <td>...</td>\n",
       "      <td>...</td>\n",
       "      <td>...</td>\n",
       "      <td>...</td>\n",
       "      <td>...</td>\n",
       "    </tr>\n",
       "    <tr>\n",
       "      <td>360</td>\n",
       "      <td>18750.032</td>\n",
       "      <td>4 Friday</td>\n",
       "      <td>Dec</td>\n",
       "      <td>27</td>\n",
       "    </tr>\n",
       "    <tr>\n",
       "      <td>361</td>\n",
       "      <td>19277.628</td>\n",
       "      <td>5 Saturday</td>\n",
       "      <td>Dec</td>\n",
       "      <td>28</td>\n",
       "    </tr>\n",
       "    <tr>\n",
       "      <td>362</td>\n",
       "      <td>19818.848</td>\n",
       "      <td>6 Sunday</td>\n",
       "      <td>Dec</td>\n",
       "      <td>29</td>\n",
       "    </tr>\n",
       "    <tr>\n",
       "      <td>363</td>\n",
       "      <td>19316.744</td>\n",
       "      <td>0 Monday</td>\n",
       "      <td>Dec</td>\n",
       "      <td>30</td>\n",
       "    </tr>\n",
       "    <tr>\n",
       "      <td>364</td>\n",
       "      <td>11332.484</td>\n",
       "      <td>1 Tuesday</td>\n",
       "      <td>Dec</td>\n",
       "      <td>31</td>\n",
       "    </tr>\n",
       "  </tbody>\n",
       "</table>\n",
       "<p>365 rows × 4 columns</p>\n",
       "</div>"
      ],
      "text/plain": [
       "       revenue  day of week month date of month\n",
       "0    17582.636    1 Tuesday   Jan            01\n",
       "1    20745.792  2 Wednesday   Jan            02\n",
       "2    19641.544   3 Thursday   Jan            03\n",
       "3    17825.216     4 Friday   Jan            04\n",
       "4    17230.016   5 Saturday   Jan            05\n",
       "..         ...          ...   ...           ...\n",
       "360  18750.032     4 Friday   Dec            27\n",
       "361  19277.628   5 Saturday   Dec            28\n",
       "362  19818.848     6 Sunday   Dec            29\n",
       "363  19316.744     0 Monday   Dec            30\n",
       "364  11332.484    1 Tuesday   Dec            31\n",
       "\n",
       "[365 rows x 4 columns]"
      ]
     },
     "execution_count": 458,
     "metadata": {},
     "output_type": "execute_result"
    }
   ],
   "source": [
    "datewise_revenue"
   ]
  },
  {
   "cell_type": "code",
   "execution_count": null,
   "metadata": {},
   "outputs": [],
   "source": []
  }
 ],
 "metadata": {
  "kernelspec": {
   "display_name": "Python 3",
   "language": "python",
   "name": "python3"
  },
  "language_info": {
   "codemirror_mode": {
    "name": "ipython",
    "version": 3
   },
   "file_extension": ".py",
   "mimetype": "text/x-python",
   "name": "python",
   "nbconvert_exporter": "python",
   "pygments_lexer": "ipython3",
   "version": "3.7.4"
  }
 },
 "nbformat": 4,
 "nbformat_minor": 2
}
