{
 "cells": [
  {
   "cell_type": "code",
   "execution_count": 1,
   "metadata": {},
   "outputs": [],
   "source": [
    "import pandas as pd\n",
    "import numpy as np\n",
    "import os\n",
    "os.chdir('C:\\\\Users\\\\tomdx\\\\Documents\\\\find hotel')"
   ]
  },
  {
   "cell_type": "code",
   "execution_count": null,
   "metadata": {},
   "outputs": [],
   "source": [
    " "
   ]
  },
  {
   "cell_type": "code",
   "execution_count": 2,
   "metadata": {},
   "outputs": [],
   "source": [
    "df = pd.read_csv('Campaign_Data.csv')"
   ]
  },
  {
   "cell_type": "code",
   "execution_count": 3,
   "metadata": {},
   "outputs": [],
   "source": [
    "df['date'] = pd.to_datetime(df['date'])\n",
    "df['clicks'] = df['clicks'].fillna(0)\n",
    "df['total_costs'] = df['total_costs'].fillna(0)\n",
    "df = df.drop_duplicates()\n"
   ]
  },
  {
   "cell_type": "code",
   "execution_count": 4,
   "metadata": {},
   "outputs": [
    {
     "data": {
      "text/plain": [
       "0"
      ]
     },
     "execution_count": 4,
     "metadata": {},
     "output_type": "execute_result"
    }
   ],
   "source": [
    "df.duplicated().sum()"
   ]
  },
  {
   "cell_type": "code",
   "execution_count": 5,
   "metadata": {},
   "outputs": [
    {
     "data": {
      "text/html": [
       "<div>\n",
       "<style scoped>\n",
       "    .dataframe tbody tr th:only-of-type {\n",
       "        vertical-align: middle;\n",
       "    }\n",
       "\n",
       "    .dataframe tbody tr th {\n",
       "        vertical-align: top;\n",
       "    }\n",
       "\n",
       "    .dataframe thead th {\n",
       "        text-align: right;\n",
       "    }\n",
       "</style>\n",
       "<table border=\"1\" class=\"dataframe\">\n",
       "  <thead>\n",
       "    <tr style=\"text-align: right;\">\n",
       "      <th></th>\n",
       "      <th>week</th>\n",
       "      <th>market_id</th>\n",
       "      <th>date</th>\n",
       "      <th>device</th>\n",
       "      <th>clicks</th>\n",
       "      <th>destination_country_name</th>\n",
       "      <th>bookings</th>\n",
       "      <th>total_costs</th>\n",
       "      <th>commision</th>\n",
       "      <th>matchtype</th>\n",
       "      <th>destination_super_region</th>\n",
       "      <th>key_adgroup_id</th>\n",
       "    </tr>\n",
       "  </thead>\n",
       "  <tbody>\n",
       "    <tr>\n",
       "      <th>0</th>\n",
       "      <td>46-2015</td>\n",
       "      <td>18</td>\n",
       "      <td>2015-12-11</td>\n",
       "      <td>Desktop</td>\n",
       "      <td>1.0</td>\n",
       "      <td>NaN</td>\n",
       "      <td>0</td>\n",
       "      <td>0.63</td>\n",
       "      <td>0.0</td>\n",
       "      <td>exact</td>\n",
       "      <td>NaN</td>\n",
       "      <td>19607539</td>\n",
       "    </tr>\n",
       "    <tr>\n",
       "      <th>1</th>\n",
       "      <td>41-2015</td>\n",
       "      <td>18</td>\n",
       "      <td>2015-04-10</td>\n",
       "      <td>Desktop</td>\n",
       "      <td>0.0</td>\n",
       "      <td>NaN</td>\n",
       "      <td>0</td>\n",
       "      <td>0.00</td>\n",
       "      <td>0.0</td>\n",
       "      <td>phrase</td>\n",
       "      <td>NaN</td>\n",
       "      <td>19326908</td>\n",
       "    </tr>\n",
       "    <tr>\n",
       "      <th>2</th>\n",
       "      <td>6-2016</td>\n",
       "      <td>18</td>\n",
       "      <td>2016-02-02</td>\n",
       "      <td>Tablet</td>\n",
       "      <td>1.0</td>\n",
       "      <td>NaN</td>\n",
       "      <td>0</td>\n",
       "      <td>0.93</td>\n",
       "      <td>0.0</td>\n",
       "      <td>phrase</td>\n",
       "      <td>NaN</td>\n",
       "      <td>19326908</td>\n",
       "    </tr>\n",
       "    <tr>\n",
       "      <th>3</th>\n",
       "      <td>7-2016</td>\n",
       "      <td>18</td>\n",
       "      <td>2016-10-02</td>\n",
       "      <td>Desktop</td>\n",
       "      <td>1.0</td>\n",
       "      <td>NaN</td>\n",
       "      <td>0</td>\n",
       "      <td>0.67</td>\n",
       "      <td>0.0</td>\n",
       "      <td>phrase</td>\n",
       "      <td>NaN</td>\n",
       "      <td>19326908</td>\n",
       "    </tr>\n",
       "    <tr>\n",
       "      <th>4</th>\n",
       "      <td>45-2015</td>\n",
       "      <td>18</td>\n",
       "      <td>2015-04-11</td>\n",
       "      <td>Mobile</td>\n",
       "      <td>0.0</td>\n",
       "      <td>NaN</td>\n",
       "      <td>0</td>\n",
       "      <td>0.00</td>\n",
       "      <td>0.0</td>\n",
       "      <td>phrase</td>\n",
       "      <td>NaN</td>\n",
       "      <td>19326910</td>\n",
       "    </tr>\n",
       "  </tbody>\n",
       "</table>\n",
       "</div>"
      ],
      "text/plain": [
       "      week  market_id       date   device  clicks destination_country_name  \\\n",
       "0  46-2015         18 2015-12-11  Desktop     1.0                      NaN   \n",
       "1  41-2015         18 2015-04-10  Desktop     0.0                      NaN   \n",
       "2   6-2016         18 2016-02-02   Tablet     1.0                      NaN   \n",
       "3   7-2016         18 2016-10-02  Desktop     1.0                      NaN   \n",
       "4  45-2015         18 2015-04-11   Mobile     0.0                      NaN   \n",
       "\n",
       "   bookings  total_costs  commision matchtype destination_super_region  \\\n",
       "0         0         0.63        0.0     exact                      NaN   \n",
       "1         0         0.00        0.0    phrase                      NaN   \n",
       "2         0         0.93        0.0    phrase                      NaN   \n",
       "3         0         0.67        0.0    phrase                      NaN   \n",
       "4         0         0.00        0.0    phrase                      NaN   \n",
       "\n",
       "   key_adgroup_id  \n",
       "0        19607539  \n",
       "1        19326908  \n",
       "2        19326908  \n",
       "3        19326908  \n",
       "4        19326910  "
      ]
     },
     "execution_count": 5,
     "metadata": {},
     "output_type": "execute_result"
    }
   ],
   "source": [
    "df.head()"
   ]
  },
  {
   "cell_type": "code",
   "execution_count": null,
   "metadata": {},
   "outputs": [],
   "source": [
    " "
   ]
  },
  {
   "cell_type": "code",
   "execution_count": 6,
   "metadata": {},
   "outputs": [
    {
     "name": "stderr",
     "output_type": "stream",
     "text": [
      "<ipython-input-6-690592b9ba1f>:1: FutureWarning: Indexing with multiple keys (implicitly converted to a tuple of keys) will be deprecated, use a list instead.\n",
      "  jf = df.groupby(['destination_country_name','device'])['clicks','bookings','commision','total_costs'].sum().reset_index()\n"
     ]
    },
    {
     "data": {
      "text/html": [
       "<div>\n",
       "<style scoped>\n",
       "    .dataframe tbody tr th:only-of-type {\n",
       "        vertical-align: middle;\n",
       "    }\n",
       "\n",
       "    .dataframe tbody tr th {\n",
       "        vertical-align: top;\n",
       "    }\n",
       "\n",
       "    .dataframe thead th {\n",
       "        text-align: right;\n",
       "    }\n",
       "</style>\n",
       "<table border=\"1\" class=\"dataframe\">\n",
       "  <thead>\n",
       "    <tr style=\"text-align: right;\">\n",
       "      <th></th>\n",
       "      <th>destination_country_name</th>\n",
       "      <th>device</th>\n",
       "      <th>clicks</th>\n",
       "      <th>bookings</th>\n",
       "      <th>commision</th>\n",
       "      <th>total_costs</th>\n",
       "    </tr>\n",
       "  </thead>\n",
       "  <tbody>\n",
       "    <tr>\n",
       "      <th>192</th>\n",
       "      <td>Kiribati</td>\n",
       "      <td>Mobile</td>\n",
       "      <td>1.0</td>\n",
       "      <td>0</td>\n",
       "      <td>3627.000000</td>\n",
       "      <td>0.08</td>\n",
       "    </tr>\n",
       "    <tr>\n",
       "      <th>128</th>\n",
       "      <td>Germany</td>\n",
       "      <td>Desktop</td>\n",
       "      <td>0.0</td>\n",
       "      <td>192</td>\n",
       "      <td>2624.083815</td>\n",
       "      <td>0.00</td>\n",
       "    </tr>\n",
       "    <tr>\n",
       "      <th>176</th>\n",
       "      <td>Italy</td>\n",
       "      <td>Desktop</td>\n",
       "      <td>1133.0</td>\n",
       "      <td>27</td>\n",
       "      <td>1321.863175</td>\n",
       "      <td>623.81</td>\n",
       "    </tr>\n",
       "    <tr>\n",
       "      <th>391</th>\n",
       "      <td>United States</td>\n",
       "      <td>Desktop</td>\n",
       "      <td>937.0</td>\n",
       "      <td>24</td>\n",
       "      <td>1033.569195</td>\n",
       "      <td>702.99</td>\n",
       "    </tr>\n",
       "    <tr>\n",
       "      <th>341</th>\n",
       "      <td>Spain</td>\n",
       "      <td>Desktop</td>\n",
       "      <td>491.0</td>\n",
       "      <td>7</td>\n",
       "      <td>472.342230</td>\n",
       "      <td>300.80</td>\n",
       "    </tr>\n",
       "  </tbody>\n",
       "</table>\n",
       "</div>"
      ],
      "text/plain": [
       "    destination_country_name   device  clicks  bookings    commision  \\\n",
       "192                 Kiribati   Mobile     1.0         0  3627.000000   \n",
       "128                  Germany  Desktop     0.0       192  2624.083815   \n",
       "176                    Italy  Desktop  1133.0        27  1321.863175   \n",
       "391            United States  Desktop   937.0        24  1033.569195   \n",
       "341                    Spain  Desktop   491.0         7   472.342230   \n",
       "\n",
       "     total_costs  \n",
       "192         0.08  \n",
       "128         0.00  \n",
       "176       623.81  \n",
       "391       702.99  \n",
       "341       300.80  "
      ]
     },
     "execution_count": 6,
     "metadata": {},
     "output_type": "execute_result"
    }
   ],
   "source": [
    "jf = df.groupby(['destination_country_name','device'])['clicks','bookings','commision','total_costs'].sum().reset_index()\n",
    "jf.sort_values('commision',ascending=False).head()"
   ]
  },
  {
   "cell_type": "code",
   "execution_count": 7,
   "metadata": {},
   "outputs": [],
   "source": [
    "jf['commison_per-booking'] = jf['commision']/jf['bookings']\n",
    "jf['profit'] = jf['commision'] - jf['total_costs']\n",
    "jf['profit_per_booking'] = jf['profit']/jf['bookings']\n",
    "jf['cpc'] = jf['total_costs']/jf['clicks']\n",
    " \n",
    "jf['cr'] = jf['bookings']/jf['clicks']\n",
    "jf['roi'] = round((jf['profit']/jf['total_costs'])*100,2)"
   ]
  },
  {
   "cell_type": "code",
   "execution_count": 8,
   "metadata": {},
   "outputs": [],
   "source": [
    "jf.loc[jf['roi']<0,'profitable'] = 'No'\n",
    "jf.loc[jf['roi']>0,'profitable'] = 'Yes'\n",
    "jf.loc[jf['roi']==0,'profitable'] = 'break-even'"
   ]
  },
  {
   "cell_type": "code",
   "execution_count": null,
   "metadata": {},
   "outputs": [],
   "source": [
    " "
   ]
  },
  {
   "cell_type": "code",
   "execution_count": 9,
   "metadata": {},
   "outputs": [],
   "source": [
    "jf = jf.replace([np.inf, -np.inf], np.nan)\n"
   ]
  },
  {
   "cell_type": "code",
   "execution_count": 10,
   "metadata": {},
   "outputs": [],
   "source": [
    "jf['click_range'] = pd.cut(x=jf['clicks'], bins=[-1,0,100, 200, 300, 400,500,600,700,800,900,1000,1500],\\\n",
    "       labels=[0,'1-100','101-200','201-300','301-400','401-500','501-600','601-700','701-800','801-900','901-1000','1000+']) "
   ]
  },
  {
   "cell_type": "code",
   "execution_count": 11,
   "metadata": {},
   "outputs": [],
   "source": [
    "jf['bookings_range'] = pd.cut(x=jf['bookings'], bins=[-1,0,5, 10, 15, 20,25,30,35],\\\n",
    "       labels=[0,'1-5','6-10','11-15','16-20','21-25','26-30','31+']) \n",
    "\n",
    "jf['break_even_cpc'] = jf['profit_per_booking'] * jf['cr'] \n",
    "jf['ideal_cpc'] = jf['break_even_cpc'] * 0.7\n",
    "jf['change'] = (jf['break_even_cpc'] - jf['cpc'])/jf['cpc']"
   ]
  },
  {
   "cell_type": "code",
   "execution_count": null,
   "metadata": {},
   "outputs": [],
   "source": [
    " "
   ]
  },
  {
   "cell_type": "code",
   "execution_count": null,
   "metadata": {},
   "outputs": [],
   "source": [
    " "
   ]
  }
 ],
 "metadata": {
  "kernelspec": {
   "display_name": "Python 3",
   "language": "python",
   "name": "python3"
  },
  "language_info": {
   "codemirror_mode": {
    "name": "ipython",
    "version": 3
   },
   "file_extension": ".py",
   "mimetype": "text/x-python",
   "name": "python",
   "nbconvert_exporter": "python",
   "pygments_lexer": "ipython3",
   "version": "3.8.3"
  }
 },
 "nbformat": 4,
 "nbformat_minor": 2
}
