{
 "cells": [
  {
   "cell_type": "code",
   "execution_count": 1,
   "metadata": {},
   "outputs": [],
   "source": [
    "import os\n",
    "import pandas as pd\n",
    "import seaborn as sns\n",
    "os.getcwd()\n",
    "sns.set(rc={'figure.figsize':(10,5)})\n",
    "import matplotlib.pyplot as plt"
   ]
  },
  {
   "cell_type": "code",
   "execution_count": 2,
   "metadata": {},
   "outputs": [],
   "source": [
    "os.chdir('C:\\\\Users\\\\Tom Joseph\\\\Downloads\\\\VM Case Study')"
   ]
  },
  {
   "cell_type": "code",
   "execution_count": 3,
   "metadata": {},
   "outputs": [],
   "source": [
    "#Loading data\n",
    "main = pd.read_csv('main_header.csv')\n",
    "channel = pd.read_csv('channel_header.csv')\n",
    "categories = pd.read_csv('categories_header.csv')\n",
    "main['date'] = pd.to_datetime(main['date'])\n"
   ]
  },
  {
   "cell_type": "code",
   "execution_count": 4,
   "metadata": {},
   "outputs": [
    {
     "data": {
      "text/html": [
       "<div>\n",
       "<style scoped>\n",
       "    .dataframe tbody tr th:only-of-type {\n",
       "        vertical-align: middle;\n",
       "    }\n",
       "\n",
       "    .dataframe tbody tr th {\n",
       "        vertical-align: top;\n",
       "    }\n",
       "\n",
       "    .dataframe thead th {\n",
       "        text-align: right;\n",
       "    }\n",
       "</style>\n",
       "<table border=\"1\" class=\"dataframe\">\n",
       "  <thead>\n",
       "    <tr style=\"text-align: right;\">\n",
       "      <th></th>\n",
       "      <th>Channel</th>\n",
       "      <th>Channel ID</th>\n",
       "      <th>2019 total cost</th>\n",
       "    </tr>\n",
       "  </thead>\n",
       "  <tbody>\n",
       "    <tr>\n",
       "      <td>0</td>\n",
       "      <td>affiliate</td>\n",
       "      <td>1</td>\n",
       "      <td>138048.38</td>\n",
       "    </tr>\n",
       "    <tr>\n",
       "      <td>1</td>\n",
       "      <td>brand</td>\n",
       "      <td>2</td>\n",
       "      <td>0.00</td>\n",
       "    </tr>\n",
       "    <tr>\n",
       "      <td>2</td>\n",
       "      <td>crm</td>\n",
       "      <td>3</td>\n",
       "      <td>0.00</td>\n",
       "    </tr>\n",
       "    <tr>\n",
       "      <td>3</td>\n",
       "      <td>display</td>\n",
       "      <td>4</td>\n",
       "      <td>1177056.18</td>\n",
       "    </tr>\n",
       "    <tr>\n",
       "      <td>4</td>\n",
       "      <td>other</td>\n",
       "      <td>5</td>\n",
       "      <td>0.00</td>\n",
       "    </tr>\n",
       "    <tr>\n",
       "      <td>5</td>\n",
       "      <td>search</td>\n",
       "      <td>6</td>\n",
       "      <td>3439873.52</td>\n",
       "    </tr>\n",
       "    <tr>\n",
       "      <td>6</td>\n",
       "      <td>social</td>\n",
       "      <td>7</td>\n",
       "      <td>1513755.36</td>\n",
       "    </tr>\n",
       "  </tbody>\n",
       "</table>\n",
       "</div>"
      ],
      "text/plain": [
       "     Channel  Channel ID  2019 total cost\n",
       "0  affiliate           1        138048.38\n",
       "1      brand           2             0.00\n",
       "2        crm           3             0.00\n",
       "3    display           4       1177056.18\n",
       "4      other           5             0.00\n",
       "5     search           6       3439873.52\n",
       "6     social           7       1513755.36"
      ]
     },
     "execution_count": 4,
     "metadata": {},
     "output_type": "execute_result"
    }
   ],
   "source": [
    "channel"
   ]
  },
  {
   "cell_type": "code",
   "execution_count": 5,
   "metadata": {},
   "outputs": [],
   "source": [
    "categories.rename(columns={'category id':'category ID'},inplace=True)"
   ]
  },
  {
   "cell_type": "code",
   "execution_count": 6,
   "metadata": {},
   "outputs": [
    {
     "data": {
      "text/html": [
       "<div>\n",
       "<style scoped>\n",
       "    .dataframe tbody tr th:only-of-type {\n",
       "        vertical-align: middle;\n",
       "    }\n",
       "\n",
       "    .dataframe tbody tr th {\n",
       "        vertical-align: top;\n",
       "    }\n",
       "\n",
       "    .dataframe thead th {\n",
       "        text-align: right;\n",
       "    }\n",
       "</style>\n",
       "<table border=\"1\" class=\"dataframe\">\n",
       "  <thead>\n",
       "    <tr style=\"text-align: right;\">\n",
       "      <th></th>\n",
       "      <th>date</th>\n",
       "      <th>country</th>\n",
       "      <th>channel ID</th>\n",
       "      <th>category ID</th>\n",
       "      <th>sessions</th>\n",
       "      <th>pageviews</th>\n",
       "      <th>conversions</th>\n",
       "      <th>revenue</th>\n",
       "      <th>bounces</th>\n",
       "      <th>total_session_duration_in_ms</th>\n",
       "    </tr>\n",
       "  </thead>\n",
       "  <tbody>\n",
       "    <tr>\n",
       "      <td>0</td>\n",
       "      <td>2019-01-01</td>\n",
       "      <td>cz</td>\n",
       "      <td>5</td>\n",
       "      <td>10</td>\n",
       "      <td>2</td>\n",
       "      <td>3</td>\n",
       "      <td>0</td>\n",
       "      <td>0.000</td>\n",
       "      <td>0</td>\n",
       "      <td>3146790</td>\n",
       "    </tr>\n",
       "    <tr>\n",
       "      <td>1</td>\n",
       "      <td>2019-01-01</td>\n",
       "      <td>cz</td>\n",
       "      <td>2</td>\n",
       "      <td>10</td>\n",
       "      <td>92</td>\n",
       "      <td>228</td>\n",
       "      <td>157</td>\n",
       "      <td>116.040</td>\n",
       "      <td>9</td>\n",
       "      <td>296735116</td>\n",
       "    </tr>\n",
       "    <tr>\n",
       "      <td>2</td>\n",
       "      <td>2019-01-01</td>\n",
       "      <td>cz</td>\n",
       "      <td>7</td>\n",
       "      <td>10</td>\n",
       "      <td>186</td>\n",
       "      <td>383</td>\n",
       "      <td>215</td>\n",
       "      <td>226.908</td>\n",
       "      <td>35</td>\n",
       "      <td>208787607</td>\n",
       "    </tr>\n",
       "    <tr>\n",
       "      <td>3</td>\n",
       "      <td>2019-01-01</td>\n",
       "      <td>cz</td>\n",
       "      <td>4</td>\n",
       "      <td>10</td>\n",
       "      <td>67</td>\n",
       "      <td>235</td>\n",
       "      <td>85</td>\n",
       "      <td>76.212</td>\n",
       "      <td>12</td>\n",
       "      <td>273295421</td>\n",
       "    </tr>\n",
       "    <tr>\n",
       "      <td>4</td>\n",
       "      <td>2019-01-01</td>\n",
       "      <td>cz</td>\n",
       "      <td>6</td>\n",
       "      <td>10</td>\n",
       "      <td>562</td>\n",
       "      <td>1437</td>\n",
       "      <td>741</td>\n",
       "      <td>541.952</td>\n",
       "      <td>85</td>\n",
       "      <td>1252733604</td>\n",
       "    </tr>\n",
       "  </tbody>\n",
       "</table>\n",
       "</div>"
      ],
      "text/plain": [
       "        date country  channel ID  category ID  sessions  pageviews  \\\n",
       "0 2019-01-01      cz           5           10         2          3   \n",
       "1 2019-01-01      cz           2           10        92        228   \n",
       "2 2019-01-01      cz           7           10       186        383   \n",
       "3 2019-01-01      cz           4           10        67        235   \n",
       "4 2019-01-01      cz           6           10       562       1437   \n",
       "\n",
       "   conversions  revenue  bounces  total_session_duration_in_ms  \n",
       "0            0    0.000        0                       3146790  \n",
       "1          157  116.040        9                     296735116  \n",
       "2          215  226.908       35                     208787607  \n",
       "3           85   76.212       12                     273295421  \n",
       "4          741  541.952       85                    1252733604  "
      ]
     },
     "execution_count": 6,
     "metadata": {},
     "output_type": "execute_result"
    }
   ],
   "source": [
    "main.head()"
   ]
  },
  {
   "cell_type": "code",
   "execution_count": 7,
   "metadata": {},
   "outputs": [
    {
     "data": {
      "text/plain": [
       "date                            0\n",
       "country                         0\n",
       "channel ID                      0\n",
       "category ID                     0\n",
       "sessions                        0\n",
       "pageviews                       0\n",
       "conversions                     0\n",
       "revenue                         0\n",
       "bounces                         0\n",
       "total_session_duration_in_ms    0\n",
       "dtype: int64"
      ]
     },
     "execution_count": 7,
     "metadata": {},
     "output_type": "execute_result"
    }
   ],
   "source": [
    "# checking for Null values\n",
    "main.isna() .sum()"
   ]
  },
  {
   "cell_type": "code",
   "execution_count": 8,
   "metadata": {},
   "outputs": [
    {
     "data": {
      "text/plain": [
       "Channel            0\n",
       "Channel ID         0\n",
       "2019 total cost    0\n",
       "dtype: int64"
      ]
     },
     "execution_count": 8,
     "metadata": {},
     "output_type": "execute_result"
    }
   ],
   "source": [
    "# checking for Null values\n",
    "channel.isna() .sum()"
   ]
  },
  {
   "cell_type": "code",
   "execution_count": 9,
   "metadata": {},
   "outputs": [
    {
     "data": {
      "text/plain": [
       "country          0\n",
       "category ID      0\n",
       "category name    0\n",
       "dtype: int64"
      ]
     },
     "execution_count": 9,
     "metadata": {},
     "output_type": "execute_result"
    }
   ],
   "source": [
    "# checking for Null values\n",
    "categories.isna() .sum()"
   ]
  },
  {
   "cell_type": "code",
   "execution_count": 10,
   "metadata": {},
   "outputs": [],
   "source": [
    "# Renaming channel ID for merging \n",
    "channel.rename(columns ={'Channel ID':'channel ID'},inplace=True)"
   ]
  },
  {
   "cell_type": "code",
   "execution_count": 11,
   "metadata": {},
   "outputs": [
    {
     "data": {
      "text/html": [
       "<div>\n",
       "<style scoped>\n",
       "    .dataframe tbody tr th:only-of-type {\n",
       "        vertical-align: middle;\n",
       "    }\n",
       "\n",
       "    .dataframe tbody tr th {\n",
       "        vertical-align: top;\n",
       "    }\n",
       "\n",
       "    .dataframe thead th {\n",
       "        text-align: right;\n",
       "    }\n",
       "</style>\n",
       "<table border=\"1\" class=\"dataframe\">\n",
       "  <thead>\n",
       "    <tr style=\"text-align: right;\">\n",
       "      <th></th>\n",
       "      <th>Channel</th>\n",
       "      <th>channel ID</th>\n",
       "      <th>2019 total cost</th>\n",
       "    </tr>\n",
       "  </thead>\n",
       "  <tbody>\n",
       "    <tr>\n",
       "      <td>0</td>\n",
       "      <td>affiliate</td>\n",
       "      <td>1</td>\n",
       "      <td>138048.38</td>\n",
       "    </tr>\n",
       "    <tr>\n",
       "      <td>1</td>\n",
       "      <td>brand</td>\n",
       "      <td>2</td>\n",
       "      <td>0.00</td>\n",
       "    </tr>\n",
       "    <tr>\n",
       "      <td>2</td>\n",
       "      <td>crm</td>\n",
       "      <td>3</td>\n",
       "      <td>0.00</td>\n",
       "    </tr>\n",
       "    <tr>\n",
       "      <td>3</td>\n",
       "      <td>display</td>\n",
       "      <td>4</td>\n",
       "      <td>1177056.18</td>\n",
       "    </tr>\n",
       "    <tr>\n",
       "      <td>4</td>\n",
       "      <td>other</td>\n",
       "      <td>5</td>\n",
       "      <td>0.00</td>\n",
       "    </tr>\n",
       "    <tr>\n",
       "      <td>5</td>\n",
       "      <td>search</td>\n",
       "      <td>6</td>\n",
       "      <td>3439873.52</td>\n",
       "    </tr>\n",
       "    <tr>\n",
       "      <td>6</td>\n",
       "      <td>social</td>\n",
       "      <td>7</td>\n",
       "      <td>1513755.36</td>\n",
       "    </tr>\n",
       "  </tbody>\n",
       "</table>\n",
       "</div>"
      ],
      "text/plain": [
       "     Channel  channel ID  2019 total cost\n",
       "0  affiliate           1        138048.38\n",
       "1      brand           2             0.00\n",
       "2        crm           3             0.00\n",
       "3    display           4       1177056.18\n",
       "4      other           5             0.00\n",
       "5     search           6       3439873.52\n",
       "6     social           7       1513755.36"
      ]
     },
     "execution_count": 11,
     "metadata": {},
     "output_type": "execute_result"
    }
   ],
   "source": [
    " channel"
   ]
  },
  {
   "cell_type": "code",
   "execution_count": 12,
   "metadata": {},
   "outputs": [],
   "source": [
    "# merging two dataframes -main & channel\n",
    "df = pd.merge(main,channel,on='channel ID',how='inner').drop(columns=['channel ID','2019 total cost'])"
   ]
  },
  {
   "cell_type": "code",
   "execution_count": null,
   "metadata": {},
   "outputs": [],
   "source": [
    " "
   ]
  },
  {
   "cell_type": "code",
   "execution_count": 13,
   "metadata": {},
   "outputs": [
    {
     "data": {
      "image/png": "[encoded data removed]",
      "text/plain": [
       "<Figure size 432x288 with 2 Axes>"
      ]
     },
     "metadata": {
      "needs_background": "light"
     },
     "output_type": "display_data"
    }
   ],
   "source": [
    "# Correlation matrix\n",
    "sns.heatmap(main.corr(),cmap='BuPu',annot=True)\n",
    "plt.show()"
   ]
  },
  {
   "cell_type": "code",
   "execution_count": 14,
   "metadata": {},
   "outputs": [
    {
     "data": {
      "text/html": [
       "<div>\n",
       "<style scoped>\n",
       "    .dataframe tbody tr th:only-of-type {\n",
       "        vertical-align: middle;\n",
       "    }\n",
       "\n",
       "    .dataframe tbody tr th {\n",
       "        vertical-align: top;\n",
       "    }\n",
       "\n",
       "    .dataframe thead th {\n",
       "        text-align: right;\n",
       "    }\n",
       "</style>\n",
       "<table border=\"1\" class=\"dataframe\">\n",
       "  <thead>\n",
       "    <tr style=\"text-align: right;\">\n",
       "      <th></th>\n",
       "      <th>Channel</th>\n",
       "      <th>channel ID</th>\n",
       "      <th>2019 total cost</th>\n",
       "      <th>revenue</th>\n",
       "      <th>profit</th>\n",
       "      <th>ROI</th>\n",
       "    </tr>\n",
       "  </thead>\n",
       "  <tbody>\n",
       "    <tr>\n",
       "      <td>0</td>\n",
       "      <td>affiliate</td>\n",
       "      <td>1</td>\n",
       "      <td>138048.38</td>\n",
       "      <td>162.548</td>\n",
       "      <td>-137885.832</td>\n",
       "      <td>-99.88</td>\n",
       "    </tr>\n",
       "    <tr>\n",
       "      <td>1</td>\n",
       "      <td>brand</td>\n",
       "      <td>2</td>\n",
       "      <td>0.00</td>\n",
       "      <td>505679.500</td>\n",
       "      <td>505679.500</td>\n",
       "      <td>inf</td>\n",
       "    </tr>\n",
       "    <tr>\n",
       "      <td>2</td>\n",
       "      <td>crm</td>\n",
       "      <td>3</td>\n",
       "      <td>0.00</td>\n",
       "      <td>36830.952</td>\n",
       "      <td>36830.952</td>\n",
       "      <td>inf</td>\n",
       "    </tr>\n",
       "    <tr>\n",
       "      <td>3</td>\n",
       "      <td>display</td>\n",
       "      <td>4</td>\n",
       "      <td>1177056.18</td>\n",
       "      <td>678781.824</td>\n",
       "      <td>-498274.356</td>\n",
       "      <td>-42.33</td>\n",
       "    </tr>\n",
       "    <tr>\n",
       "      <td>4</td>\n",
       "      <td>other</td>\n",
       "      <td>5</td>\n",
       "      <td>0.00</td>\n",
       "      <td>118073.272</td>\n",
       "      <td>118073.272</td>\n",
       "      <td>inf</td>\n",
       "    </tr>\n",
       "    <tr>\n",
       "      <td>5</td>\n",
       "      <td>search</td>\n",
       "      <td>6</td>\n",
       "      <td>3439873.52</td>\n",
       "      <td>4046192.160</td>\n",
       "      <td>606318.640</td>\n",
       "      <td>17.63</td>\n",
       "    </tr>\n",
       "    <tr>\n",
       "      <td>6</td>\n",
       "      <td>social</td>\n",
       "      <td>7</td>\n",
       "      <td>1513755.36</td>\n",
       "      <td>874891.284</td>\n",
       "      <td>-638864.076</td>\n",
       "      <td>-42.20</td>\n",
       "    </tr>\n",
       "  </tbody>\n",
       "</table>\n",
       "</div>"
      ],
      "text/plain": [
       "     Channel  channel ID  2019 total cost      revenue      profit    ROI\n",
       "0  affiliate           1        138048.38      162.548 -137885.832 -99.88\n",
       "1      brand           2             0.00   505679.500  505679.500    inf\n",
       "2        crm           3             0.00    36830.952   36830.952    inf\n",
       "3    display           4       1177056.18   678781.824 -498274.356 -42.33\n",
       "4      other           5             0.00   118073.272  118073.272    inf\n",
       "5     search           6       3439873.52  4046192.160  606318.640  17.63\n",
       "6     social           7       1513755.36   874891.284 -638864.076 -42.20"
      ]
     },
     "execution_count": 14,
     "metadata": {},
     "output_type": "execute_result"
    }
   ],
   "source": [
    "# ROI Calculation\n",
    "\n",
    "channel_revenue = df.groupby('Channel')['revenue'].sum().sort_values(ascending=False).to_frame().reset_index()\n",
    "\n",
    "channel_revenue = pd.merge(channel,channel_revenue,on='Channel')\n",
    "\n",
    "channel_revenue['profit'] = channel_revenue['revenue'] - channel_revenue['2019 total cost']\n",
    "channel_revenue['ROI'] = round((channel_revenue['profit']/channel_revenue['2019 total cost'])*100,2)\n",
    "channel_revenue.to_csv('channel_revenue.csv')\n",
    "channel_revenue"
   ]
  },
  {
   "cell_type": "code",
   "execution_count": null,
   "metadata": {},
   "outputs": [],
   "source": []
  },
  {
   "cell_type": "code",
   "execution_count": 15,
   "metadata": {},
   "outputs": [],
   "source": [
    "# Label Encoding Categorical features\n",
    "\n",
    "from sklearn.preprocessing import LabelEncoder\n",
    "\n",
    "encoder = LabelEncoder()\n",
    "\n",
    "main['country'] = encoder.fit_transform(main['country'])\n",
    "main['date'] = main['date'].apply(lambda x : x.toordinal())\n",
    " "
   ]
  },
  {
   "cell_type": "code",
   "execution_count": null,
   "metadata": {},
   "outputs": [],
   "source": [
    " "
   ]
  },
  {
   "cell_type": "code",
   "execution_count": 16,
   "metadata": {},
   "outputs": [],
   "source": [
    "# Splitting Dataset into test & train\n",
    "\n",
    "from sklearn.model_selection import train_test_split\n",
    "X = main.drop(columns=['conversions','revenue'])\n",
    "y = main['conversions']\n",
    "\n",
    "X_train,X_test,y_train,y_test = train_test_split(X,y,test_size=0.33,random_state=42)\n",
    "\n",
    " "
   ]
  },
  {
   "cell_type": "code",
   "execution_count": 17,
   "metadata": {},
   "outputs": [
    {
     "name": "stderr",
     "output_type": "stream",
     "text": [
      "C:\\Users\\Public\\Anaconda3\\lib\\site-packages\\sklearn\\ensemble\\forest.py:245: FutureWarning: The default value of n_estimators will change from 10 in version 0.20 to 100 in 0.22.\n",
      "  \"10 in version 0.20 to 100 in 0.22.\", FutureWarning)\n"
     ]
    },
    {
     "data": {
      "text/plain": [
       "RandomForestRegressor(bootstrap=True, criterion='mse', max_depth=None,\n",
       "                      max_features='auto', max_leaf_nodes=None,\n",
       "                      min_impurity_decrease=0.0, min_impurity_split=None,\n",
       "                      min_samples_leaf=1, min_samples_split=2,\n",
       "                      min_weight_fraction_leaf=0.0, n_estimators=10,\n",
       "                      n_jobs=None, oob_score=False, random_state=None,\n",
       "                      verbose=0, warm_start=False)"
      ]
     },
     "execution_count": 17,
     "metadata": {},
     "output_type": "execute_result"
    }
   ],
   "source": [
    "# Model fitting - RandomForestRegressor\n",
    "\n",
    "from sklearn.ensemble import RandomForestRegressor\n",
    "model = RandomForestRegressor()\n",
    "model.fit(X_train,y_train)"
   ]
  },
  {
   "cell_type": "code",
   "execution_count": 18,
   "metadata": {},
   "outputs": [
    {
     "data": {
      "text/html": [
       "<div>\n",
       "<style scoped>\n",
       "    .dataframe tbody tr th:only-of-type {\n",
       "        vertical-align: middle;\n",
       "    }\n",
       "\n",
       "    .dataframe tbody tr th {\n",
       "        vertical-align: top;\n",
       "    }\n",
       "\n",
       "    .dataframe thead th {\n",
       "        text-align: right;\n",
       "    }\n",
       "</style>\n",
       "<table border=\"1\" class=\"dataframe\">\n",
       "  <thead>\n",
       "    <tr style=\"text-align: right;\">\n",
       "      <th></th>\n",
       "      <th>feature</th>\n",
       "      <th>feature_importance</th>\n",
       "    </tr>\n",
       "  </thead>\n",
       "  <tbody>\n",
       "    <tr>\n",
       "      <td>0</td>\n",
       "      <td>date</td>\n",
       "      <td>0.001228</td>\n",
       "    </tr>\n",
       "    <tr>\n",
       "      <td>1</td>\n",
       "      <td>country</td>\n",
       "      <td>0.000406</td>\n",
       "    </tr>\n",
       "    <tr>\n",
       "      <td>2</td>\n",
       "      <td>channel ID</td>\n",
       "      <td>0.000192</td>\n",
       "    </tr>\n",
       "    <tr>\n",
       "      <td>3</td>\n",
       "      <td>category ID</td>\n",
       "      <td>0.000754</td>\n",
       "    </tr>\n",
       "    <tr>\n",
       "      <td>4</td>\n",
       "      <td>sessions</td>\n",
       "      <td>0.926822</td>\n",
       "    </tr>\n",
       "    <tr>\n",
       "      <td>5</td>\n",
       "      <td>pageviews</td>\n",
       "      <td>0.060919</td>\n",
       "    </tr>\n",
       "    <tr>\n",
       "      <td>6</td>\n",
       "      <td>bounces</td>\n",
       "      <td>0.005042</td>\n",
       "    </tr>\n",
       "    <tr>\n",
       "      <td>7</td>\n",
       "      <td>total_session_duration_in_ms</td>\n",
       "      <td>0.004638</td>\n",
       "    </tr>\n",
       "  </tbody>\n",
       "</table>\n",
       "</div>"
      ],
      "text/plain": [
       "                        feature  feature_importance\n",
       "0                          date            0.001228\n",
       "1                       country            0.000406\n",
       "2                    channel ID            0.000192\n",
       "3                   category ID            0.000754\n",
       "4                      sessions            0.926822\n",
       "5                     pageviews            0.060919\n",
       "6                       bounces            0.005042\n",
       "7  total_session_duration_in_ms            0.004638"
      ]
     },
     "execution_count": 18,
     "metadata": {},
     "output_type": "execute_result"
    }
   ],
   "source": [
    "feature_importance = pd.DataFrame(zip(X.columns,model.feature_importances_),columns=['feature','feature_importance'])\n",
    "\n",
    "feature_importance"
   ]
  },
  {
   "cell_type": "code",
   "execution_count": 19,
   "metadata": {},
   "outputs": [
    {
     "data": {
      "image/png": "[encoded data removed]",
      "text/plain": [
       "<Figure size 432x288 with 1 Axes>"
      ]
     },
     "metadata": {
      "needs_background": "light"
     },
     "output_type": "display_data"
    }
   ],
   "source": [
    "sns.barplot( y='feature',x='feature_importance',data = feature_importance)\n",
    "plt.title('Feature importance')\n",
    "plt.show()\n"
   ]
  },
  {
   "cell_type": "code",
   "execution_count": 20,
   "metadata": {},
   "outputs": [],
   "source": [
    "main = pd.read_csv('main_header.csv')\n",
    "main['date'] = pd.to_datetime(main['date'])\n",
    "\n",
    "datewise_revenue = main.groupby('date')['revenue'].sum().reset_index()\n",
    "datewise_revenue['day of week'] = datewise_revenue['date'].dt.dayofweek"
   ]
  },
  {
   "cell_type": "code",
   "execution_count": 21,
   "metadata": {},
   "outputs": [],
   "source": [
    "days = {0:'0 Monday',1:'1 Tuesday',2:'2 Wednesday',3:'3 Thursday',4:'4 Friday',5:'5 Saturday',6:'6 Sunday'}\n",
    "datewise_revenue['day of week'] = datewise_revenue['day of week'].map(days)\n",
    "datewise_revenue['month'] = datewise_revenue['date'].dt.month\n",
    "months = {1:'Jan',2:'Feb',3:'Mar',4:'Apr',5:'May',6:'Jun',7:'Jul',8:'Aug',9:'Sep',10:'Oct',11:'Nov',12:'Dec'}\n",
    "datewise_revenue['month'] = datewise_revenue['month'].map(months)"
   ]
  },
  {
   "cell_type": "code",
   "execution_count": null,
   "metadata": {},
   "outputs": [],
   "source": [
    " "
   ]
  },
  {
   "cell_type": "code",
   "execution_count": 22,
   "metadata": {},
   "outputs": [],
   "source": [
    "df = datewise_revenue\n",
    "df = df.drop(columns=['date']).sort_index()"
   ]
  },
  {
   "cell_type": "code",
   "execution_count": 23,
   "metadata": {},
   "outputs": [],
   "source": [
    "df = df[['month','day of week','revenue']]\n",
    "df.dropna(inplace=True)"
   ]
  },
  {
   "cell_type": "code",
   "execution_count": 24,
   "metadata": {},
   "outputs": [
    {
     "data": {
      "image/png": "[encoded data removed]",
      "text/plain": [
       "<Figure size 432x288 with 2 Axes>"
      ]
     },
     "metadata": {
      "needs_background": "light"
     },
     "output_type": "display_data"
    }
   ],
   "source": [
    "month_day_revenue = pd.crosstab(df['day of week'],df['month'],values=df['revenue'],aggfunc='mean')\n",
    "month_day_revenue = month_day_revenue[['Jan','Feb','Mar','Apr','May','Jun','Jul','Aug','Sep','Oct','Nov','Dec']] \n",
    "month_day_revenue.sort_index(level = 'day of week')\n",
    "sns.heatmap(month_day_revenue,cmap='RdPu',fmt='d',linewidths=2)\n",
    "plt.title('Average Revenue')\n",
    "plt.show()"
   ]
  },
  {
   "cell_type": "code",
   "execution_count": 25,
   "metadata": {},
   "outputs": [],
   "source": [
    "datewise_revenue['date'] = datewise_revenue['date'].astype('str')\n",
    "datewise_revenue['date of month'] = datewise_revenue['date'].apply(lambda x : x.split('-')[2])\n",
    "datewise_revenue = datewise_revenue.drop(columns=['date'])\n",
    "ff = datewise_revenue"
   ]
  },
  {
   "cell_type": "code",
   "execution_count": 26,
   "metadata": {},
   "outputs": [
    {
     "data": {
      "image/png": "[encoded data removed]",
      "text/plain": [
       "<Figure size 432x288 with 2 Axes>"
      ]
     },
     "metadata": {
      "needs_background": "light"
     },
     "output_type": "display_data"
    }
   ],
   "source": [
    "month_day_revenue = pd.crosstab(ff['date of month'],df['month'],values=df['revenue'],aggfunc='mean')\n",
    "month_day_revenue = month_day_revenue[['Jan','Feb','Mar','Apr','May','Jun','Jul','Aug','Sep','Oct','Nov','Dec']] \n",
    "month_day_revenue.sort_index(level = 'date of month')\n",
    "sns.heatmap(month_day_revenue,cmap='RdPu',fmt='d',linewidths=2)\n",
    "plt.title('Average Revenue')\n",
    "plt.show()"
   ]
  },
  {
   "cell_type": "code",
   "execution_count": null,
   "metadata": {},
   "outputs": [],
   "source": []
  }
 ],
 "metadata": {
  "kernelspec": {
   "display_name": "Python 3",
   "language": "python",
   "name": "python3"
  },
  "language_info": {
   "codemirror_mode": {
    "name": "ipython",
    "version": 3
   },
   "file_extension": ".py",
   "mimetype": "text/x-python",
   "name": "python",
   "nbconvert_exporter": "python",
   "pygments_lexer": "ipython3",
   "version": "3.7.4"
  }
 },
 "nbformat": 4,
 "nbformat_minor": 2
}
